{
 "cells": [
  {
   "cell_type": "markdown",
   "metadata": {},
   "source": [
    "# Lecture 01：方程组的几何解释\n",
    "\n",
    "方程组$\\begin{cases}2x&-y&=0\\\\-x&+2y&=3\\end{cases}$，写作矩阵形式有$\\begin{bmatrix}2&-1\\\\-1&2\\end{bmatrix}\\begin{bmatrix}x\\\\y\\end{bmatrix}=\\begin{bmatrix}0\\\\3\\end{bmatrix}$，通常我们把第一个矩阵称为系数矩阵$A$，将第二个矩阵称为向量$x$，将第三个矩阵称为向量$b$，于是线性方程组可以表示为$Ax=b$。"
   ]
  },
  {
   "cell_type": "markdown",
   "metadata": {},
   "source": [
    "根据矩阵可有$x\\begin{bmatrix}2\\\\-1\\end{bmatrix}+y\\begin{bmatrix}-1\\\\2\\end{bmatrix}=\\begin{bmatrix}0\\\\3\\end{bmatrix}$。 $x$倍的第一列向量加上$y$倍的第二列向量等于向量$<0,3>$"
   ]
  },
  {
   "cell_type": "markdown",
   "metadata": {},
   "source": [
    "在三维直角坐标系中，每一个方程将确定一个平面，而例子中的三个平面会相交于一点，这个点就是方程组的解\n",
    "\n",
    "对于$Ax=b$中的$b$, 如果三个向量在同一个平面上，他们的线性组合也一定都在这个平面上, 因此当$b$在平面内，方程组有解，而当$b$不在平面内，这三个列向量就无法构造出$b$\n",
    "\n",
    "\n",
    "# Lecture 02：矩阵消元 Matrix Elimination\n",
    "\n",
    "## 消元法\n",
    "\n",
    "三元方程组$\\begin{cases}x&+2y&+z&=2\\\\3x&+8y&+z&=12\\\\&4y&+z&=2\\end{cases}$，对应的矩阵形式$Ax=b$为$\\begin{bmatrix}1&2&1\\\\3&8&1\\\\0&4&1\\end{bmatrix}\\begin{bmatrix}x\\\\y\\\\z\\end{bmatrix}=\\begin{bmatrix}2\\\\12\\\\2\\end{bmatrix}$。\n",
    "\n",
    "* Step 1：在第二个方程中消去$x$项，下划线的元素为第一步的主元（pivot）：$\\begin{bmatrix}\\underline{1}&2&1\\\\3&8&1\\\\0&4&1\\end{bmatrix}\\xrightarrow{row_2-3row_1}\\begin{bmatrix}\\underline{1}&2&1\\\\0&2&-2\\\\0&4&1\\end{bmatrix}$\n",
    "\n",
    "* Step 2：在第三个方程中消去$y$项，第二行第一个非零元素成为了第二个pivot：$\\begin{bmatrix}\\underline{1}&2&1\\\\0&\\underline{2}&-2\\\\0&4&1\\end{bmatrix}\\xrightarrow{row_3-2row_2}\\begin{bmatrix}\\underline{1}&2&1\\\\0&\\underline{2}&-2\\\\0&0&\\underline{5}\\end{bmatrix}$\n",
    "    \n",
    "    第三行消元过后仅剩一个非零元素，所以它就成为第三个主元。做到这里就算消元完成了。\n",
    "\n",
    "* Step 3：回代（back substitution），在$A$矩阵后面加上$b$向量写成增广矩阵（augmented matrix）的形式：$\\left[\\begin{array}{c|c}A&b\\end{array}\\right]=\\left[\\begin{array}{ccc|c}1&2&1&2\\\\3&8&1&12\\\\0&4&1&2\\end{array}\\right]\\to\\left[\\begin{array}{ccc|c}1&2&1&2\\\\0&2&-2&6\\\\0&4&1&2\\end{array}\\right]\\to\\left[\\begin{array}{ccc|c}1&2&1&2\\\\0&2&-2&6\\\\0&0&5&-10\\end{array}\\right]$\n",
    "    \n",
    "    方程组变为$\\begin{cases}x&+2y&+z&=2\\\\&2y&-2z&=6\\\\&&5z&=-10\\end{cases}$，从第三个方程求出$z=-2$，代入第二个方程求出$y=1$，在代入第一个方程求出$x=2$。\n",
    "\n",
    "### 消元失效的情形：\n",
    "1. pivot不能为零\n",
    "2. 如果在消元时遇到pivot位置为零，则需要交换行，使pivot不为零\n",
    "3. 若消元时最后一行全部为零，则最后一个主元就不存在了，消元失效\n",
    "\n",
    "## 矩阵与向量相乘 （横着的向量乘竖着的向量）\n",
    "* 列操作 $\\Bigg[col_1\\ col_2\\ col_3\\Bigg]\\begin{bmatrix}3\\\\4\\\\5\\end{bmatrix}=3col_1+4col_2+5col_3$      竖着的col的向量\n",
    "* 行操作 $\\begin{bmatrix}1&2&7\\end{bmatrix}\\begin{bmatrix}&row_1&\\\\&row_2&\\\\&row_3&\\end{bmatrix}=1row_1+2row_2+7row_3$     横着的row的向量\n",
    "\n",
    "\n",
    "## 消元矩阵\n",
    "\n",
    "* Step 1：$row_2-3row_1$ ==》\n",
    "$\\begin{bmatrix}1&0&0\\\\-3&1&0\\\\0&0&1\\end{bmatrix}\\begin{bmatrix}1&2&1\\\\3&8&1\\\\0&4&1\\end{bmatrix}=\\begin{bmatrix}1&2&1\\\\0&2&-2\\\\0&4&1\\end{bmatrix}$。 这个消元矩阵记作$E_{21}$，即将第二行第一个元素变为零。\n",
    "\n",
    "* Step 2：$row_3-2row_2$ ==》$\\begin{bmatrix}1&0&0\\\\0&1&0\\\\0&-2&1\\end{bmatrix}\\begin{bmatrix}1&2&1\\\\0&2&-2\\\\0&4&1\\end{bmatrix}=\\begin{bmatrix}1&2&1\\\\0&2&-2\\\\0&0&5\\end{bmatrix}$。这个消元矩阵记作$E_{32}$，即将第三行第二个元素变为零。\n",
    "\n",
    "这就是消元所用的两个初等矩阵（elementary matrix）。\n",
    "\n",
    "简化表达式：$E_{32}(E_{12}A)=U$。根据结合律（associative law），$(E_{32}E_{21})A$\n",
    "\n",
    "### Identity Matrix（单位矩阵）\n",
    "单位矩阵$I=\\begin{bmatrix}1&0&0\\\\0&1&0\\\\0&0&1\\end{bmatrix}$。 如果消元前后matrix不变，消元矩阵就是单位矩阵\n",
    "\n",
    "### Permutation Matrix （置换矩阵）\n",
    "* 交换两行 $\\begin{bmatrix}0&1\\\\1&0\\end{bmatrix}\\begin{bmatrix}a&b\\\\c&d\\end{bmatrix}=\\begin{bmatrix}c&d\\\\a&b\\end{bmatrix}$\n",
    "* 交换两列 $\\begin{bmatrix}a&b\\\\c&d\\end{bmatrix}\\begin{bmatrix}0&1\\\\1&0\\end{bmatrix}=\\begin{bmatrix}b&a\\\\d&c\\end{bmatrix}$。\n",
    "\n",
    "\n",
    "## Inverse（逆）\n",
    "\n",
    "$\\Bigg[\\quad ?\\quad \\Bigg]\\begin{bmatrix}1&0&0\\\\-3&1&0\\\\0&0&1\\end{bmatrix}=\\begin{bmatrix}1&0&0\\\\0&1&0\\\\0&0&1\\end{bmatrix}$，变换是从第二行中减去三倍的第一行，那么其逆变换就是给第二行加上三倍的第一行，所以逆矩阵就是$\\begin{bmatrix}1&0&0\\\\3&1&0\\\\0&0&1\\end{bmatrix}$\n",
    "\n",
    "我们把矩阵$E$的逆记作$E^{-1}$，所以有$E^{-1}E=I$。\n",
    "\n"
   ]
  }
 ],
 "metadata": {
  "kernelspec": {
   "display_name": "Python 3 (ipykernel)",
   "language": "python",
   "name": "python3"
  },
  "language_info": {
   "codemirror_mode": {
    "name": "ipython",
    "version": 3
   },
   "file_extension": ".py",
   "mimetype": "text/x-python",
   "name": "python",
   "nbconvert_exporter": "python",
   "pygments_lexer": "ipython3",
   "version": "3.11.5"
  }
 },
 "nbformat": 4,
 "nbformat_minor": 1
}
